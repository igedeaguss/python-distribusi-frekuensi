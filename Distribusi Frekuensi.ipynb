{
 "cells": [
  {
   "cell_type": "code",
   "execution_count": 1,
   "metadata": {},
   "outputs": [],
   "source": [
    "import math\n",
    "import pandas as pd"
   ]
  },
  {
   "cell_type": "code",
   "execution_count": 4,
   "metadata": {},
   "outputs": [
    {
     "name": "stdout",
     "output_type": "stream",
     "text": [
      "[40, 45, 45, 46, 48, 50, 50, 52, 54, 54, 54, 55, 58, 58, 58, 59, 59, 59, 60, 60, 64, 64, 65, 65, 65, 65, 67, 67, 69, 70, 72, 74, 75, 75, 76, 76, 76, 76, 78, 80, 81, 82, 83, 83, 87, 90, 90, 90, 92, 93]\n",
      "\n",
      "Jangkauan: 53\n",
      "Banyak kelas: 6.6 ~ 7\n",
      "Panjang kelas interval: 7.6 ~ 8\n",
      "\n",
      "Batas kelas interval\n",
      "(40 + 8) - 1 = 47\n",
      "(48 + 8) - 1 = 55\n",
      "(56 + 8) - 1 = 63\n",
      "(64 + 8) - 1 = 71\n",
      "(72 + 8) - 1 = 79\n",
      "(80 + 8) - 1 = 87\n",
      "(88 + 8) - 1 = 95\n",
      "\n",
      "Kelas 1 -> 40 - 47\n",
      "Kelas 2 -> 48 - 55\n",
      "Kelas 3 -> 56 - 63\n",
      "Kelas 4 -> 64 - 71\n",
      "Kelas 5 -> 72 - 79\n",
      "Kelas 6 -> 80 - 87\n",
      "Kelas 7 -> 88 - 95\n"
     ]
    }
   ],
   "source": [
    "data = [55,70,92,90,65,59,40,76,59,64,45,54,78,65,69,58,48,82,65,58,\n",
    "87,80,75,54,58,75,64,52,59,60,93,76,90,83,46,83,74,67,50,67,50,54,65,76,90,72,81,60,76,45]\n",
    "data.sort()\n",
    "print(sorted(data))\n",
    "jangkauan = max(data) - min(data)\n",
    "kelas = 1 + 3.3*math.log10(len(data))\n",
    "interval = jangkauan/round(kelas)\n",
    "batas_data = []\n",
    "\n",
    "print(f\"\\nJangkauan: {jangkauan}\")\n",
    "print(f\"Banyak kelas: {kelas:.1f} ~ {round(kelas)}\")\n",
    "print(f\"Panjang kelas interval: {interval:.1f} ~ {round(interval)}\")\n",
    "print(\"\\nBatas kelas interval\")\n",
    "hasil = (min(data) + round(interval))-1\n",
    "batas_data.append([min(data), hasil])\n",
    "print(f\"({min(data)} + {round(interval)}) - 1 = {hasil}\")\n",
    "hasil = hasil + 1\n",
    "\n",
    "for i in range(1, round(kelas)):\n",
    "    print(f\"({hasil} + {round(interval)}) - 1 = {hasil+round(interval)-1}\")\n",
    "    batas_data.append([hasil, (hasil+round(interval)-1)])\n",
    "    hasil = (hasil+round(interval)-1)+ 1\n",
    "print(\"\")  \n",
    "for j in range(len(batas_data)):\n",
    "    print(f\"Kelas {j+1} -> {batas_data[j][0]} - {batas_data[j][1]}\")\n"
   ]
  },
  {
   "cell_type": "code",
   "execution_count": 14,
   "metadata": {},
   "outputs": [
    {
     "name": "stdout",
     "output_type": "stream",
     "text": [
      "Kelas Interval 40 - 47 Frekuensi: 4\n",
      "Kelas Interval 48 - 55 Frekuensi: 8\n",
      "Kelas Interval 56 - 63 Frekuensi: 8\n",
      "Kelas Interval 64 - 71 Frekuensi: 10\n",
      "Kelas Interval 72 - 79 Frekuensi: 9\n",
      "Kelas Interval 80 - 87 Frekuensi: 6\n",
      "Kelas Interval 88 - 95 Frekuensi: 5\n"
     ]
    }
   ],
   "source": [
    "banyak = 0\n",
    "frekuensi =[]\n",
    "for k in range(len(batas_data)):\n",
    "    for l in data:\n",
    "        if l >= batas_data[k][0] and l <= batas_data[k][1]:\n",
    "            banyak+=1\n",
    "    print(f\"Kelas Interval {batas_data[k][0]} - {batas_data[k][1]} Frekuensi: {banyak}\")\n",
    "    banyak = 0\n",
    "    frekuensi.append(banyak)"
   ]
  },
  {
   "cell_type": "code",
   "execution_count": 20,
   "metadata": {},
   "outputs": [
    {
     "name": "stdout",
     "output_type": "stream",
     "text": [
      "|       Interval       |      Frekuensi       |\n",
      "-----------------------------------------------\n",
      "|        40 - 47       |          4           |\n",
      "-----------------------------------------------\n",
      "|        48 - 55       |          8           |\n",
      "-----------------------------------------------\n",
      "|        56 - 63       |          8           |\n",
      "-----------------------------------------------\n",
      "|        64 - 71       |          10          |\n",
      "-----------------------------------------------\n",
      "|        72 - 79       |          9           |\n",
      "-----------------------------------------------\n",
      "|        80 - 87       |          6           |\n",
      "-----------------------------------------------\n",
      "|        88 - 95       |          5           |\n",
      "-----------------------------------------------\n"
     ]
    }
   ],
   "source": [
    "banyak = 0\n",
    "frekuensi = []\n",
    "print(f'|',\"Interval\".center(20),'|','Frekuensi'.center(20),'|')\n",
    "print('-'*47)\n",
    "for k in range(len(batas_data)):\n",
    "    for l in data:\n",
    "        if l >= batas_data[k][0] and l <= batas_data[k][1]:\n",
    "            banyak+=1\n",
    "    print(f\"|{str(batas_data[k][0]).rjust(10)} - {str(batas_data[k][1]).ljust(9)}| {str(banyak).center(20)} |\")\n",
    "    print('-'*47)\n",
    "    frekuensi.append(banyak)\n",
    "    banyak = 0\n"
   ]
  },
  {
   "cell_type": "code",
   "execution_count": 32,
   "metadata": {},
   "outputs": [],
   "source": [
    "#Input banyak angka dengan pemisah koma\n",
    "data = list(map(float, input().split(',')))\n"
   ]
  }
 ],
 "metadata": {
  "kernelspec": {
   "display_name": "Python 3",
   "language": "python",
   "name": "python3"
  },
  "language_info": {
   "codemirror_mode": {
    "name": "ipython",
    "version": 3
   },
   "file_extension": ".py",
   "mimetype": "text/x-python",
   "name": "python",
   "nbconvert_exporter": "python",
   "pygments_lexer": "ipython3",
   "version": "3.9.2"
  },
  "orig_nbformat": 4,
  "vscode": {
   "interpreter": {
    "hash": "29d37a6fad4064aa9ea9626b8ba056e50393793323446aa7234e1205d37c4fe5"
   }
  }
 },
 "nbformat": 4,
 "nbformat_minor": 2
}
